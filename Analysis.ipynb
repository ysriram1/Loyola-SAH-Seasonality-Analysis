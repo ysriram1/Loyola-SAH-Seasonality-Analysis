{
 "cells": [
  {
   "cell_type": "code",
   "execution_count": 233,
   "metadata": {
    "collapsed": true
   },
   "outputs": [],
   "source": [
    "'''\n",
    "Author: Sriram Yarlagadda + George Nakhleh\n",
    "Date Created: 10/15/2016\n",
    "Last Updated: 10/22/2016\n",
    "Note: Please use Python 2.7\n",
    "'''\n",
    "import os\n",
    "import pandas as pd\n",
    "import numpy as np\n",
    "import matplotlib.pyplot as plt\n",
    "from scipy import stats\n",
    "import seaborn as sns\n",
    "sns.set_palette(\"colorblind\")\n",
    "#os.chdir('C:\\Users\\syarlag1\\Desktop\\Loyola-SAH-Seasonality-Analysis')\n",
    "os.chdir('C:\\\\Users\\\\gnakhleh\\\\Documents\\\\Loyola\\\\Loyola-SAH-Seasonality-Analysis')\n",
    "\n",
    "%matplotlib inline"
   ]
  },
  {
   "cell_type": "markdown",
   "metadata": {},
   "source": [
    "### Reading Data"
   ]
  },
  {
   "cell_type": "code",
   "execution_count": 138,
   "metadata": {
    "collapsed": false
   },
   "outputs": [],
   "source": [
    "os.chdir('./data')\n",
    "dataFiles = os.listdir('.')\n",
    "allDataDict = {}\n",
    "# list of variables we need\n",
    "varList = ['SCORE','SPRING','SUMMER','WINTER','FALL','FEMALE']\n",
    "for dataFile in dataFiles:\n",
    "    state = dataFile[-6:-4]\n",
    "    allDataDict[state] = pd.read_stata(dataFile, columns=varList)"
   ]
  },
  {
   "cell_type": "code",
   "execution_count": 139,
   "metadata": {
    "collapsed": false
   },
   "outputs": [],
   "source": [
    "for key in allDataDict.keys(): #creating a new state identifier column\n",
    "    allDataDict[key]['State'] = pd.Series([str(key)[:2]]*allDataDict[key].shape[0])\n",
    "allStateData = pd.concat(allDataDict.values()) #combing into a single dataframe"
   ]
  },
  {
   "cell_type": "code",
   "execution_count": 140,
   "metadata": {
    "collapsed": false
   },
   "outputs": [],
   "source": [
    "allStateData.index = range(allStateData.shape[0])"
   ]
  },
  {
   "cell_type": "markdown",
   "metadata": {},
   "source": [
    "### Data Preprocessing"
   ]
  },
  {
   "cell_type": "code",
   "execution_count": 141,
   "metadata": {
    "collapsed": false
   },
   "outputs": [
    {
     "data": {
      "text/plain": [
       "(29708, 7)"
      ]
     },
     "execution_count": 141,
     "metadata": {},
     "output_type": "execute_result"
    }
   ],
   "source": [
    "allStateData.shape"
   ]
  },
  {
   "cell_type": "code",
   "execution_count": 142,
   "metadata": {
    "collapsed": false
   },
   "outputs": [
    {
     "data": {
      "text/plain": [
       "Index([u'SCORE', u'SPRING', u'SUMMER', u'WINTER', u'FALL', u'FEMALE',\n",
       "       u'State'],\n",
       "      dtype='object')"
      ]
     },
     "execution_count": 142,
     "metadata": {},
     "output_type": "execute_result"
    }
   ],
   "source": [
    "allStateData.columns"
   ]
  },
  {
   "cell_type": "code",
   "execution_count": 143,
   "metadata": {
    "collapsed": false
   },
   "outputs": [
    {
     "data": {
      "text/plain": [
       "array([ 0,  0,  0,  0,  0, 88,  0])"
      ]
     },
     "execution_count": 143,
     "metadata": {},
     "output_type": "execute_result"
    }
   ],
   "source": [
    "np.sum(np.array(allStateData < 0), 0) # 88 values < 0 (invalid)"
   ]
  },
  {
   "cell_type": "code",
   "execution_count": 144,
   "metadata": {
    "collapsed": false
   },
   "outputs": [
    {
     "data": {
      "text/plain": [
       "array([  0,   0,   0,   0,   0, 226,   0])"
      ]
     },
     "execution_count": 144,
     "metadata": {},
     "output_type": "execute_result"
    }
   ],
   "source": [
    "np.sum(np.array(pd.isnull(allStateData)),0) # 226 NaNs"
   ]
  },
  {
   "cell_type": "code",
   "execution_count": 145,
   "metadata": {
    "collapsed": true
   },
   "outputs": [],
   "source": [
    "#Drop records with no season (where the sum of the season columns = 0)\n",
    "for feature in allStateData.columns: \n",
    "    allStateData = allStateData[allStateData[feature] >= 0]"
   ]
  },
  {
   "cell_type": "code",
   "execution_count": 146,
   "metadata": {
    "collapsed": false
   },
   "outputs": [],
   "source": [
    "# continue with removing instances where all seasons are equal to 0\n",
    "allStateData = allStateData.drop(allStateData[allStateData['FALL']+\\\n",
    "                                                  allStateData['WINTER']+\\\n",
    "                                                  allStateData['SUMMER']+\\\n",
    "                                                  allStateData['SPRING']== 0].index)"
   ]
  },
  {
   "cell_type": "code",
   "execution_count": 147,
   "metadata": {
    "collapsed": false
   },
   "outputs": [
    {
     "data": {
      "text/plain": [
       "(29304, 7)"
      ]
     },
     "execution_count": 147,
     "metadata": {},
     "output_type": "execute_result"
    }
   ],
   "source": [
    "allStateData.shape"
   ]
  },
  {
   "cell_type": "code",
   "execution_count": 148,
   "metadata": {
    "collapsed": false
   },
   "outputs": [],
   "source": [
    "# creating a new \"season\" variable\n",
    "allStateData.index = range(allStateData.shape[0]) # reindexing again to account for the removed rows\n",
    "season = []\n",
    "for iRow in range(allStateData.shape[0]):\n",
    "    if allStateData['FALL'][iRow] == 1: season.append('FALL')\n",
    "    if allStateData['SPRING'][iRow] == 1: season.append('SPRING')\n",
    "    if allStateData['SUMMER'][iRow] == 1: season.append('SUMMER')\n",
    "    if allStateData['WINTER'][iRow] == 1: season.append('WINTER')\n",
    "\n",
    "allStateData['SEASON'] = pd.Series(season)"
   ]
  },
  {
   "cell_type": "code",
   "execution_count": 149,
   "metadata": {
    "collapsed": false
   },
   "outputs": [],
   "source": [
    "# saving an excel copy of the entire data for later use\n",
    "os.chdir('./..')\n",
    "allStateData.to_csv('allData.csv') # note that all data only includes the column subsets we need"
   ]
  },
  {
   "cell_type": "markdown",
   "metadata": {},
   "source": [
    "### Seasonality"
   ]
  },
  {
   "cell_type": "markdown",
   "metadata": {},
   "source": [
    "#### *Question*: Is there seasonality in the SAH Scores?"
   ]
  },
  {
   "cell_type": "markdown",
   "metadata": {},
   "source": [
    "Let us first perform some quick data exploration"
   ]
  },
  {
   "cell_type": "code",
   "execution_count": 150,
   "metadata": {
    "collapsed": false
   },
   "outputs": [
    {
     "data": {
      "text/plain": [
       "SPRING    7497\n",
       "FALL      7450\n",
       "WINTER    7390\n",
       "SUMMER    6967\n",
       "Name: SEASON, dtype: int64"
      ]
     },
     "execution_count": 150,
     "metadata": {},
     "output_type": "execute_result"
    }
   ],
   "source": [
    "#count for each season\n",
    "allStateData.SEASON.value_counts()"
   ]
  },
  {
   "cell_type": "code",
   "execution_count": 151,
   "metadata": {
    "collapsed": false
   },
   "outputs": [
    {
     "data": {
      "text/plain": [
       "<matplotlib.axes._subplots.AxesSubplot at 0x23a9cfd0>"
      ]
     },
     "execution_count": 151,
     "metadata": {},
     "output_type": "execute_result"
    },
    {
     "data": {
      "image/png": "[encoded data removed]",
      "text/plain": [
       "<matplotlib.figure.Figure at 0x1ddec978>"
      ]
     },
     "metadata": {},
     "output_type": "display_data"
    }
   ],
   "source": [
    "# boxplots of scores for each season\n",
    "allStateData.boxplot(column='SCORE', by='SEASON')"
   ]
  },
  {
   "cell_type": "markdown",
   "metadata": {},
   "source": [
    "Scores appear the same by season, though outliers cloud it a bit"
   ]
  },
  {
   "cell_type": "markdown",
   "metadata": {},
   "source": [
    "**Analyzing scores**"
   ]
  },
  {
   "cell_type": "code",
   "execution_count": 152,
   "metadata": {
    "collapsed": false
   },
   "outputs": [
    {
     "data": {
      "text/plain": [
       "<matplotlib.axes._subplots.AxesSubplot at 0x252ae240>"
      ]
     },
     "execution_count": 152,
     "metadata": {},
     "output_type": "execute_result"
    },
    {
     "data": {
      "image/png": "[encoded data removed]",
      "text/plain": [
       "<matplotlib.figure.Figure at 0x252a3630>"
      ]
     },
     "metadata": {},
     "output_type": "display_data"
    }
   ],
   "source": [
    "#Distribution of scores, overall\n",
    "allStateData.SCORE.hist(bins=50)"
   ]
  },
  {
   "cell_type": "code",
   "execution_count": 153,
   "metadata": {
    "collapsed": false
   },
   "outputs": [
    {
     "data": {
      "text/plain": [
       "0.298197        467\n",
       "0.463013          9\n",
       "0.774142          3\n",
       "0.932394      17022\n",
       "1.447735        256\n",
       "1.750672          3\n",
       "2.225541        169\n",
       "2.420563         41\n",
       "3.455614          1\n",
       "5.473947        385\n",
       "6.958751       8607\n",
       "8.499436          7\n",
       "10.804901       100\n",
       "13.065824        46\n",
       "14.210769         1\n",
       "18.065428        20\n",
       "40.853809      2139\n",
       "63.434006        25\n",
       "106.059479        3\n",
       "Name: SCORE, dtype: int64"
      ]
     },
     "execution_count": 153,
     "metadata": {},
     "output_type": "execute_result"
    }
   ],
   "source": [
    "#Same data on scores, but as a table of counts\n",
    "allStateData.SCORE.value_counts().sort_index()"
   ]
  },
  {
   "cell_type": "code",
   "execution_count": 154,
   "metadata": {
    "collapsed": false
   },
   "outputs": [
    {
     "data": {
      "text/plain": [
       "0.298197      0.015936\n",
       "0.463013      0.000307\n",
       "0.774142      0.000102\n",
       "0.932394      0.580876\n",
       "1.447735      0.008736\n",
       "1.750672      0.000102\n",
       "2.225541      0.005767\n",
       "2.420563      0.001399\n",
       "3.455614      0.000034\n",
       "5.473947      0.013138\n",
       "6.958751      0.293714\n",
       "8.499436      0.000239\n",
       "10.804901     0.003413\n",
       "13.065824     0.001570\n",
       "14.210769     0.000034\n",
       "18.065428     0.000683\n",
       "40.853809     0.072993\n",
       "63.434006     0.000853\n",
       "106.059479    0.000102\n",
       "Name: SCORE, dtype: float64"
      ]
     },
     "execution_count": 154,
     "metadata": {},
     "output_type": "execute_result"
    }
   ],
   "source": [
    "#Expressed as percent of the overall data\n",
    "allStateData.SCORE.value_counts().sort_index()/allStateData.shape[0]"
   ]
  },
  {
   "cell_type": "code",
   "execution_count": 155,
   "metadata": {
    "collapsed": false
   },
   "outputs": [
    {
     "data": {
      "text/plain": [
       "0.298197      0.015936\n",
       "0.463013      0.016244\n",
       "0.774142      0.016346\n",
       "0.932394      0.597222\n",
       "1.447735      0.605958\n",
       "1.750672      0.606061\n",
       "2.225541      0.611828\n",
       "2.420563      0.613227\n",
       "3.455614      0.613261\n",
       "5.473947      0.626399\n",
       "6.958751      0.920113\n",
       "8.499436      0.920352\n",
       "10.804901     0.923765\n",
       "13.065824     0.925334\n",
       "14.210769     0.925369\n",
       "18.065428     0.926051\n",
       "40.853809     0.999044\n",
       "63.434006     0.999898\n",
       "106.059479    1.000000\n",
       "Name: SCORE, dtype: float64"
      ]
     },
     "execution_count": 155,
     "metadata": {},
     "output_type": "execute_result"
    }
   ],
   "source": [
    "#Expressed as percent of the cumulative sum\n",
    "#In other words, 59% of the records have a score of 0.93 or less\n",
    "\n",
    "allStateData.SCORE.value_counts().sort_index().cumsum()/allStateData.shape[0]"
   ]
  },
  {
   "cell_type": "markdown",
   "metadata": {},
   "source": [
    "### 1-way ANOVA test\n",
    "Determining whether there's a meaningful difference in scores by season"
   ]
  },
  {
   "cell_type": "code",
   "execution_count": 156,
   "metadata": {
    "collapsed": false
   },
   "outputs": [
    {
     "data": {
      "text/plain": [
       "F_onewayResult(statistic=2.6621598986193655, pvalue=0.046311753389164698)"
      ]
     },
     "execution_count": 156,
     "metadata": {},
     "output_type": "execute_result"
    }
   ],
   "source": [
    "# creating seperate tables for each season for later use for anova\n",
    "FALLData = allStateData[allStateData['SEASON'] == 'FALL']['SCORE']\n",
    "SUMMERData = allStateData[allStateData['SEASON'] == 'SUMMER']['SCORE']\n",
    "SPRINGData = allStateData[allStateData['SEASON'] == 'SPRING']['SCORE']\n",
    "WINTERData = allStateData[allStateData['SEASON'] == 'WINTER']['SCORE']\n",
    "\n",
    "stats.f_oneway(FALLData, SUMMERData, SPRINGData, WINTERData)"
   ]
  },
  {
   "cell_type": "markdown",
   "metadata": {},
   "source": [
    "**Analysis of outlier records and w/ outliers removed**  \n",
    "Outlier defined as a score of greater than 40 (~8% of the data)"
   ]
  },
  {
   "cell_type": "code",
   "execution_count": 157,
   "metadata": {
    "collapsed": false
   },
   "outputs": [],
   "source": [
    "allStateData_no_outliers = allStateData[allStateData['SCORE'] < 40]"
   ]
  },
  {
   "cell_type": "code",
   "execution_count": 158,
   "metadata": {
    "collapsed": false
   },
   "outputs": [
    {
     "data": {
      "text/html": [
       "<div>\n",
       "<table border=\"1\" class=\"dataframe\">\n",
       "  <thead>\n",
       "    <tr style=\"text-align: right;\">\n",
       "      <th>SEASON</th>\n",
       "      <th>FALL</th>\n",
       "      <th>SPRING</th>\n",
       "      <th>SUMMER</th>\n",
       "      <th>WINTER</th>\n",
       "    </tr>\n",
       "    <tr>\n",
       "      <th>SCORE</th>\n",
       "      <th></th>\n",
       "      <th></th>\n",
       "      <th></th>\n",
       "      <th></th>\n",
       "    </tr>\n",
       "  </thead>\n",
       "  <tbody>\n",
       "    <tr>\n",
       "      <th>0.298197</th>\n",
       "      <td>105</td>\n",
       "      <td>130</td>\n",
       "      <td>103</td>\n",
       "      <td>129</td>\n",
       "    </tr>\n",
       "    <tr>\n",
       "      <th>0.463013</th>\n",
       "      <td>1</td>\n",
       "      <td>2</td>\n",
       "      <td>4</td>\n",
       "      <td>2</td>\n",
       "    </tr>\n",
       "    <tr>\n",
       "      <th>0.774142</th>\n",
       "      <td>0</td>\n",
       "      <td>3</td>\n",
       "      <td>0</td>\n",
       "      <td>0</td>\n",
       "    </tr>\n",
       "    <tr>\n",
       "      <th>0.932394</th>\n",
       "      <td>4311</td>\n",
       "      <td>4364</td>\n",
       "      <td>4059</td>\n",
       "      <td>4288</td>\n",
       "    </tr>\n",
       "    <tr>\n",
       "      <th>1.447735</th>\n",
       "      <td>64</td>\n",
       "      <td>72</td>\n",
       "      <td>56</td>\n",
       "      <td>64</td>\n",
       "    </tr>\n",
       "    <tr>\n",
       "      <th>1.750672</th>\n",
       "      <td>1</td>\n",
       "      <td>1</td>\n",
       "      <td>1</td>\n",
       "      <td>0</td>\n",
       "    </tr>\n",
       "    <tr>\n",
       "      <th>2.225541</th>\n",
       "      <td>45</td>\n",
       "      <td>45</td>\n",
       "      <td>37</td>\n",
       "      <td>42</td>\n",
       "    </tr>\n",
       "    <tr>\n",
       "      <th>2.420563</th>\n",
       "      <td>14</td>\n",
       "      <td>11</td>\n",
       "      <td>9</td>\n",
       "      <td>7</td>\n",
       "    </tr>\n",
       "    <tr>\n",
       "      <th>3.455614</th>\n",
       "      <td>0</td>\n",
       "      <td>1</td>\n",
       "      <td>0</td>\n",
       "      <td>0</td>\n",
       "    </tr>\n",
       "    <tr>\n",
       "      <th>5.473947</th>\n",
       "      <td>104</td>\n",
       "      <td>94</td>\n",
       "      <td>99</td>\n",
       "      <td>88</td>\n",
       "    </tr>\n",
       "    <tr>\n",
       "      <th>6.958751</th>\n",
       "      <td>2145</td>\n",
       "      <td>2204</td>\n",
       "      <td>2042</td>\n",
       "      <td>2216</td>\n",
       "    </tr>\n",
       "    <tr>\n",
       "      <th>8.499436</th>\n",
       "      <td>3</td>\n",
       "      <td>1</td>\n",
       "      <td>2</td>\n",
       "      <td>1</td>\n",
       "    </tr>\n",
       "    <tr>\n",
       "      <th>10.804901</th>\n",
       "      <td>33</td>\n",
       "      <td>25</td>\n",
       "      <td>17</td>\n",
       "      <td>25</td>\n",
       "    </tr>\n",
       "    <tr>\n",
       "      <th>13.065824</th>\n",
       "      <td>18</td>\n",
       "      <td>9</td>\n",
       "      <td>8</td>\n",
       "      <td>11</td>\n",
       "    </tr>\n",
       "    <tr>\n",
       "      <th>14.210769</th>\n",
       "      <td>0</td>\n",
       "      <td>0</td>\n",
       "      <td>0</td>\n",
       "      <td>1</td>\n",
       "    </tr>\n",
       "    <tr>\n",
       "      <th>18.065428</th>\n",
       "      <td>5</td>\n",
       "      <td>3</td>\n",
       "      <td>6</td>\n",
       "      <td>6</td>\n",
       "    </tr>\n",
       "  </tbody>\n",
       "</table>\n",
       "</div>"
      ],
      "text/plain": [
       "SEASON     FALL  SPRING  SUMMER  WINTER\n",
       "SCORE                                  \n",
       "0.298197    105     130     103     129\n",
       "0.463013      1       2       4       2\n",
       "0.774142      0       3       0       0\n",
       "0.932394   4311    4364    4059    4288\n",
       "1.447735     64      72      56      64\n",
       "1.750672      1       1       1       0\n",
       "2.225541     45      45      37      42\n",
       "2.420563     14      11       9       7\n",
       "3.455614      0       1       0       0\n",
       "5.473947    104      94      99      88\n",
       "6.958751   2145    2204    2042    2216\n",
       "8.499436      3       1       2       1\n",
       "10.804901    33      25      17      25\n",
       "13.065824    18       9       8      11\n",
       "14.210769     0       0       0       1\n",
       "18.065428     5       3       6       6"
      ]
     },
     "execution_count": 158,
     "metadata": {},
     "output_type": "execute_result"
    }
   ],
   "source": [
    "pd.crosstab(allStateData_no_outliers['SCORE'], allStateData_no_outliers['SEASON'])"
   ]
  },
  {
   "cell_type": "code",
   "execution_count": 159,
   "metadata": {
    "collapsed": false
   },
   "outputs": [
    {
     "data": {
      "text/html": [
       "<div>\n",
       "<table border=\"1\" class=\"dataframe\">\n",
       "  <thead>\n",
       "    <tr style=\"text-align: right;\">\n",
       "      <th></th>\n",
       "      <th>SCORE</th>\n",
       "    </tr>\n",
       "    <tr>\n",
       "      <th>SEASON</th>\n",
       "      <th></th>\n",
       "    </tr>\n",
       "  </thead>\n",
       "  <tbody>\n",
       "    <tr>\n",
       "      <th>FALL</th>\n",
       "      <td>2.990677</td>\n",
       "    </tr>\n",
       "    <tr>\n",
       "      <th>SPRING</th>\n",
       "      <td>2.964716</td>\n",
       "    </tr>\n",
       "    <tr>\n",
       "      <th>SUMMER</th>\n",
       "      <td>2.975229</td>\n",
       "    </tr>\n",
       "    <tr>\n",
       "      <th>WINTER</th>\n",
       "      <td>3.006950</td>\n",
       "    </tr>\n",
       "  </tbody>\n",
       "</table>\n",
       "</div>"
      ],
      "text/plain": [
       "           SCORE\n",
       "SEASON          \n",
       "FALL    2.990677\n",
       "SPRING  2.964716\n",
       "SUMMER  2.975229\n",
       "WINTER  3.006950"
      ]
     },
     "execution_count": 159,
     "metadata": {},
     "output_type": "execute_result"
    }
   ],
   "source": [
    "#Mean scores for each season, with outliers removed\n",
    "allStateData_no_outliers[['SCORE', 'SEASON']].groupby('SEASON').aggregate(np.mean)"
   ]
  },
  {
   "cell_type": "code",
   "execution_count": 160,
   "metadata": {
    "collapsed": false
   },
   "outputs": [
    {
     "data": {
      "text/plain": [
       "<matplotlib.axes._subplots.AxesSubplot at 0x2aedb358>"
      ]
     },
     "execution_count": 160,
     "metadata": {},
     "output_type": "execute_result"
    },
    {
     "data": {
      "image/png": "[encoded data removed]",
      "text/plain": [
       "<matplotlib.figure.Figure at 0x2aed0198>"
      ]
     },
     "metadata": {},
     "output_type": "display_data"
    }
   ],
   "source": [
    "#Boxplot with outliers removed\n",
    "allStateData_no_outliers.boxplot(column='SCORE', by='SEASON')"
   ]
  },
  {
   "cell_type": "markdown",
   "metadata": {},
   "source": [
    "Even with outliers removed, the scores don't vary by season"
   ]
  },
  {
   "cell_type": "code",
   "execution_count": 161,
   "metadata": {
    "collapsed": false
   },
   "outputs": [
    {
     "data": {
      "text/html": [
       "<div>\n",
       "<table border=\"1\" class=\"dataframe\">\n",
       "  <thead>\n",
       "    <tr style=\"text-align: right;\">\n",
       "      <th></th>\n",
       "      <th>SCORE</th>\n",
       "    </tr>\n",
       "    <tr>\n",
       "      <th>SEASON</th>\n",
       "      <th></th>\n",
       "    </tr>\n",
       "  </thead>\n",
       "  <tbody>\n",
       "    <tr>\n",
       "      <th>FALL</th>\n",
       "      <td>41.154377</td>\n",
       "    </tr>\n",
       "    <tr>\n",
       "      <th>SPRING</th>\n",
       "      <td>41.273483</td>\n",
       "    </tr>\n",
       "    <tr>\n",
       "      <th>SUMMER</th>\n",
       "      <td>41.322983</td>\n",
       "    </tr>\n",
       "    <tr>\n",
       "      <th>WINTER</th>\n",
       "      <td>41.070213</td>\n",
       "    </tr>\n",
       "  </tbody>\n",
       "</table>\n",
       "</div>"
      ],
      "text/plain": [
       "            SCORE\n",
       "SEASON           \n",
       "FALL    41.154377\n",
       "SPRING  41.273483\n",
       "SUMMER  41.322983\n",
       "WINTER  41.070213"
      ]
     },
     "execution_count": 161,
     "metadata": {},
     "output_type": "execute_result"
    }
   ],
   "source": [
    "#Analyzing the outliers (defined as a score of more than 40 (about 8% of the records))\n",
    "allStateData_outliers = allStateData[allStateData['SCORE'] > 40]\n",
    "\n",
    "allStateData_outliers[['SCORE', 'SEASON']].groupby('SEASON').aggregate(np.mean)"
   ]
  },
  {
   "cell_type": "markdown",
   "metadata": {},
   "source": [
    "**State-by-state analysis**  \n",
    "Looking at same things, to see if any results differ by state"
   ]
  },
  {
   "cell_type": "code",
   "execution_count": 162,
   "metadata": {
    "collapsed": false
   },
   "outputs": [
    {
     "data": {
      "text/plain": [
       "Index([u'SCORE', u'SPRING', u'SUMMER', u'WINTER', u'FALL', u'FEMALE', u'State',\n",
       "       u'SEASON'],\n",
       "      dtype='object')"
      ]
     },
     "execution_count": 162,
     "metadata": {},
     "output_type": "execute_result"
    }
   ],
   "source": [
    "allStateData.columns"
   ]
  },
  {
   "cell_type": "code",
   "execution_count": 163,
   "metadata": {
    "collapsed": false
   },
   "outputs": [
    {
     "data": {
      "text/plain": [
       "CA    18132\n",
       "NY     8229\n",
       "WA     2006\n",
       "IA      937\n",
       "Name: State, dtype: int64"
      ]
     },
     "execution_count": 163,
     "metadata": {},
     "output_type": "execute_result"
    }
   ],
   "source": [
    "allStateData.State.value_counts()"
   ]
  },
  {
   "cell_type": "code",
   "execution_count": 210,
   "metadata": {
    "collapsed": true
   },
   "outputs": [],
   "source": [
    "#Create state specific dataframes in case we need them\n",
    "CA_data = allStateData[allStateData['State'] == 'CA']\n",
    "NY_data = allStateData[allStateData['State'] == 'NY']\n",
    "WA_data = allStateData[allStateData['State'] == 'WA']\n",
    "IA_data = allStateData[allStateData['State'] == 'IA']"
   ]
  },
  {
   "cell_type": "code",
   "execution_count": 179,
   "metadata": {
    "collapsed": false
   },
   "outputs": [
    {
     "name": "stdout",
     "output_type": "stream",
     "text": [
      "       SPRING  SUMMER  WINTER    FALL\n",
      "State                                \n",
      "CA     4679.0  4356.0  4547.0  4550.0\n",
      "IA      226.0   221.0   242.0   248.0\n",
      "NY     2097.0  1893.0  2097.0  2142.0\n",
      "WA      495.0   497.0   504.0   510.0\n"
     ]
    }
   ],
   "source": [
    "#Might not actually need those dataframes\n",
    "#Lets see what we can do just by grouping by state, or iterating over\n",
    "\n",
    "SAH_groupedbystate = allStateData[['State', 'SPRING', 'SUMMER', 'WINTER', 'FALL','SEASON', 'SCORE']].groupby('State')\n",
    "\n",
    "#How many records for each season are there, by state\n",
    "print(SAH_groupedbystate[['SPRING', 'SUMMER', 'WINTER', 'FALL']].aggregate('sum'))  #results are off: exactly the same..."
   ]
  },
  {
   "cell_type": "code",
   "execution_count": 167,
   "metadata": {
    "collapsed": false
   },
   "outputs": [
    {
     "name": "stdout",
     "output_type": "stream",
     "text": [
      "         SPRING    SUMMER    WINTER      FALL\n",
      "State                                        \n",
      "CA     0.258052  0.240238  0.250772  0.250938\n",
      "IA     0.241195  0.235859  0.258271  0.264674\n",
      "NY     0.254830  0.230040  0.254830  0.260299\n",
      "WA     0.246760  0.247757  0.251246  0.254237\n"
     ]
    }
   ],
   "source": [
    "#Similar breakdowns\n",
    "print(SAH_season_groupedbystate[['SPRING', 'SUMMER', 'WINTER', 'FALL']].aggregate('sum').apply(lambda x: x/x.sum(), axis=1))"
   ]
  },
  {
   "cell_type": "code",
   "execution_count": 184,
   "metadata": {
    "collapsed": false
   },
   "outputs": [
    {
     "name": "stdout",
     "output_type": "stream",
     "text": [
      "State\n",
      "CA    2.914092\n",
      "IA    2.895962\n",
      "NY    3.121237\n",
      "WA    3.088122\n",
      "Name: SCORE, dtype: float32\n"
     ]
    }
   ],
   "source": [
    "SAH_groupedbystate_nooutliers = allStateData_no_outliers[['State', 'SPRING', 'SUMMER', \n",
    "                                                      'WINTER', 'FALL','SEASON', 'SCORE']].groupby('State')\n",
    "\n",
    "print(SAH_groupedbystate_nooutliers['SCORE'].aggregate(np.mean))"
   ]
  },
  {
   "cell_type": "markdown",
   "metadata": {},
   "source": [
    "Mean scores by state and season"
   ]
  },
  {
   "cell_type": "code",
   "execution_count": 168,
   "metadata": {
    "collapsed": false
   },
   "outputs": [
    {
     "name": "stdout",
     "output_type": "stream",
     "text": [
      "State  SEASON\n",
      "CA     FALL      6.217946\n",
      "       SPRING    5.983382\n",
      "       SUMMER    5.951336\n",
      "       WINTER    5.935328\n",
      "IA     FALL      5.011483\n",
      "       SPRING    6.586821\n",
      "       SUMMER    4.953653\n",
      "       WINTER    4.906367\n",
      "NY     FALL      5.948319\n",
      "       SPRING    5.119598\n",
      "       SUMMER    6.005303\n",
      "       WINTER    5.184735\n",
      "WA     FALL      5.766925\n",
      "       SPRING    4.820359\n",
      "       SUMMER    4.901056\n",
      "       WINTER    5.130880\n",
      "Name: SCORE, dtype: float32\n"
     ]
    }
   ],
   "source": [
    "SAH_season_groupedbystateandseason = allStateData[['State', 'SPRING', 'SUMMER', 'WINTER', \n",
    "                                                  'FALL','SEASON', 'SCORE']].groupby(['State', 'SEASON'])\n",
    "print(SAH_season_groupedbystateandseason['SCORE'].aggregate(np.mean))"
   ]
  },
  {
   "cell_type": "markdown",
   "metadata": {},
   "source": [
    "Mean scores by state and season (no outliers)"
   ]
  },
  {
   "cell_type": "code",
   "execution_count": 185,
   "metadata": {
    "collapsed": false
   },
   "outputs": [
    {
     "name": "stdout",
     "output_type": "stream",
     "text": [
      "State  SEASON\n",
      "CA     FALL      2.923720\n",
      "       SPRING    2.927763\n",
      "       SUMMER    2.891549\n",
      "       WINTER    2.912055\n",
      "IA     FALL      2.704037\n",
      "       SPRING    3.332458\n",
      "       SUMMER    2.709893\n",
      "       WINTER    2.865683\n",
      "NY     FALL      3.119127\n",
      "       SPRING    3.021017\n",
      "       SUMMER    3.149162\n",
      "       WINTER    3.198736\n",
      "WA     FALL      3.181576\n",
      "       SPRING    2.903686\n",
      "       SUMMER    3.156513\n",
      "       WINTER    3.108828\n",
      "Name: SCORE, dtype: float32\n"
     ]
    }
   ],
   "source": [
    "SAH_season_groupedbystateandseason_nooutliers = allStateData_no_outliers[['State', 'SPRING', 'SUMMER', 'WINTER', \n",
    "                                                  'FALL','SEASON', 'SCORE']].groupby(['State', 'SEASON'])\n",
    "print(SAH_season_groupedbystateandseason_nooutliers['SCORE'].aggregate(np.mean))"
   ]
  },
  {
   "cell_type": "markdown",
   "metadata": {},
   "source": [
    "Boxplot: Scores by state and season"
   ]
  },
  {
   "cell_type": "code",
   "execution_count": 208,
   "metadata": {
    "collapsed": false
   },
   "outputs": [
    {
     "data": {
      "text/plain": [
       "<matplotlib.axes._subplots.AxesSubplot at 0x39494c88>"
      ]
     },
     "execution_count": 208,
     "metadata": {},
     "output_type": "execute_result"
    },
    {
     "data": {
      "image/png": "[encoded data removed]",
      "text/plain": [
       "<matplotlib.figure.Figure at 0x38aa7e10>"
      ]
     },
     "metadata": {},
     "output_type": "display_data"
    }
   ],
   "source": [
    "sns.boxplot(x=\"State\", y=\"SCORE\", hue=\"SEASON\", \n",
    "            data=allStateData, palette=[\"#7cc8a2\",\"#82898f\", \"#af401f\", \"#fbd504\"])"
   ]
  },
  {
   "cell_type": "markdown",
   "metadata": {},
   "source": [
    "Boxplot: Scores by state and season (no outliers)"
   ]
  },
  {
   "cell_type": "code",
   "execution_count": 207,
   "metadata": {
    "collapsed": false
   },
   "outputs": [
    {
     "data": {
      "text/plain": [
       "<matplotlib.axes._subplots.AxesSubplot at 0x38ac0320>"
      ]
     },
     "execution_count": 207,
     "metadata": {},
     "output_type": "execute_result"
    },
    {
     "data": {
      "image/png": "[encoded data removed]",
      "text/plain": [
       "<matplotlib.figure.Figure at 0x37efb048>"
      ]
     },
     "metadata": {},
     "output_type": "display_data"
    }
   ],
   "source": [
    "sns.boxplot(x=\"State\", y=\"SCORE\", hue=\"SEASON\", \n",
    "            data=allStateData_no_outliers, palette=[\"#7cc8a2\",\"#82898f\", \"#af401f\", \"#fbd504\"])"
   ]
  },
  {
   "cell_type": "markdown",
   "metadata": {},
   "source": [
    "Boxplot of distribution of outlier scores by state and season"
   ]
  },
  {
   "cell_type": "code",
   "execution_count": 220,
   "metadata": {
    "collapsed": false
   },
   "outputs": [
    {
     "data": {
      "text/plain": [
       "<matplotlib.axes._subplots.AxesSubplot at 0x3a291198>"
      ]
     },
     "execution_count": 220,
     "metadata": {},
     "output_type": "execute_result"
    },
    {
     "data": {
      "image/png": "[encoded data removed]",
      "text/plain": [
       "<matplotlib.figure.Figure at 0x39b5c5c0>"
      ]
     },
     "metadata": {},
     "output_type": "display_data"
    }
   ],
   "source": [
    "sns.boxplot(x=\"State\", y=\"SCORE\", hue=\"SEASON\", \n",
    "            data=allStateData_outliers, palette=[\"#fbd504\", \"#af401f\", \"#7cc8a2\",\"#82898f\"])"
   ]
  },
  {
   "cell_type": "markdown",
   "metadata": {},
   "source": [
    "Boxplot of scores greater or equal to 1 (~40% of the data) by state and season"
   ]
  },
  {
   "cell_type": "code",
   "execution_count": 228,
   "metadata": {
    "collapsed": false
   },
   "outputs": [
    {
     "data": {
      "text/plain": [
       "<matplotlib.axes._subplots.AxesSubplot at 0x3aef4390>"
      ]
     },
     "execution_count": 228,
     "metadata": {},
     "output_type": "execute_result"
    },
    {
     "data": {
      "image/png": "[encoded data removed]",
      "text/plain": [
       "<matplotlib.figure.Figure at 0x3a927908>"
      ]
     },
     "metadata": {},
     "output_type": "display_data"
    }
   ],
   "source": [
    "sns.boxplot(x=\"State\", y=\"SCORE\", hue=\"SEASON\", \n",
    "            data=allStateData[allStateData['SCORE'] >=1], palette=[\"#82898f\", \"#af401f\", \"#fbd504\", \"#7cc8a2\"])"
   ]
  },
  {
   "cell_type": "markdown",
   "metadata": {},
   "source": [
    "ANOVA tests state-by-state"
   ]
  },
  {
   "cell_type": "code",
   "execution_count": 212,
   "metadata": {
    "collapsed": false
   },
   "outputs": [],
   "source": [
    "# creating seperate tables for each season for later use for anova\n",
    "def anova_tester(df):\n",
    "    FALLData = df[df['SEASON'] == 'FALL']['SCORE']\n",
    "    SUMMERData = df[df['SEASON'] == 'SUMMER']['SCORE']\n",
    "    SPRINGData = df[df['SEASON'] == 'SPRING']['SCORE']\n",
    "    WINTERData = df[df['SEASON'] == 'WINTER']['SCORE']\n",
    "\n",
    "    return stats.f_oneway(FALLData, SUMMERData, SPRINGData, WINTERData)"
   ]
  },
  {
   "cell_type": "code",
   "execution_count": 229,
   "metadata": {
    "collapsed": false
   },
   "outputs": [
    {
     "name": "stdout",
     "output_type": "stream",
     "text": [
      "Iowa:  F_onewayResult(statistic=1.5852062459445773, pvalue=0.19136305406166029)\n"
     ]
    }
   ],
   "source": [
    "print \"Iowa: \", anova_tester(IA_data)"
   ]
  },
  {
   "cell_type": "code",
   "execution_count": 230,
   "metadata": {
    "collapsed": false
   },
   "outputs": [
    {
     "name": "stdout",
     "output_type": "stream",
     "text": [
      "California:  F_onewayResult(statistic=0.67173184940108599, pvalue=0.5692704760557068)\n"
     ]
    }
   ],
   "source": [
    "print \"California: \", anova_tester(CA_data)"
   ]
  },
  {
   "cell_type": "code",
   "execution_count": 231,
   "metadata": {
    "collapsed": false
   },
   "outputs": [
    {
     "name": "stdout",
     "output_type": "stream",
     "text": [
      "Washington state:  F_onewayResult(statistic=1.1312500697524432, pvalue=0.33507910398752638)\n"
     ]
    }
   ],
   "source": [
    "print \"Washington state: \", anova_tester(WA_data)"
   ]
  },
  {
   "cell_type": "markdown",
   "metadata": {},
   "source": [
    "Only NY state data has a seasonal difference in scores with any significance, but let's look at this data"
   ]
  },
  {
   "cell_type": "code",
   "execution_count": 232,
   "metadata": {
    "collapsed": false
   },
   "outputs": [
    {
     "name": "stdout",
     "output_type": "stream",
     "text": [
      "New York:  F_onewayResult(statistic=4.8558481684148882, pvalue=0.0022386946135250379)\n"
     ]
    }
   ],
   "source": [
    "#The difference in NY scores by season is significant\n",
    "print \"New York: \", anova_tester(NY_data)"
   ]
  },
  {
   "cell_type": "code",
   "execution_count": 217,
   "metadata": {
    "collapsed": false
   },
   "outputs": [
    {
     "data": {
      "text/plain": [
       "<matplotlib.axes._subplots.AxesSubplot at 0x399a10f0>"
      ]
     },
     "execution_count": 217,
     "metadata": {},
     "output_type": "execute_result"
    },
    {
     "data": {
      "image/png": "[encoded data removed]",
      "text/plain": [
       "<matplotlib.figure.Figure at 0x39903ac8>"
      ]
     },
     "metadata": {},
     "output_type": "display_data"
    }
   ],
   "source": [
    "NY_data.boxplot(column=\"SCORE\", by=\"SEASON\")"
   ]
  },
  {
   "cell_type": "code",
   "execution_count": 218,
   "metadata": {
    "collapsed": false
   },
   "outputs": [
    {
     "data": {
      "text/plain": [
       "<matplotlib.axes._subplots.AxesSubplot at 0x39b5c160>"
      ]
     },
     "execution_count": 218,
     "metadata": {},
     "output_type": "execute_result"
    },
    {
     "data": {
      "image/png": "[encoded data removed]",
      "text/plain": [
       "<matplotlib.figure.Figure at 0x257bfc18>"
      ]
     },
     "metadata": {},
     "output_type": "display_data"
    }
   ],
   "source": [
    "NY_data[NY_data['SCORE'] > 40].boxplot(column=\"SCORE\", by=\"SEASON\")"
   ]
  },
  {
   "cell_type": "code",
   "execution_count": 219,
   "metadata": {
    "collapsed": false
   },
   "outputs": [
    {
     "data": {
      "text/plain": [
       "<matplotlib.axes._subplots.AxesSubplot at 0x39e829b0>"
      ]
     },
     "execution_count": 219,
     "metadata": {},
     "output_type": "execute_result"
    },
    {
     "data": {
      "image/png": "[encoded data removed]",
      "text/plain": [
       "<matplotlib.figure.Figure at 0x3990e198>"
      ]
     },
     "metadata": {},
     "output_type": "display_data"
    }
   ],
   "source": [
    "NY_data[NY_data['SCORE'] < 40].boxplot(column=\"SCORE\", by=\"SEASON\")"
   ]
  },
  {
   "cell_type": "code",
   "execution_count": null,
   "metadata": {
    "collapsed": true
   },
   "outputs": [],
   "source": []
  }
 ],
 "metadata": {
  "kernelspec": {
   "display_name": "Python 2",
   "language": "python",
   "name": "python2"
  },
  "language_info": {
   "codemirror_mode": {
    "name": "ipython",
    "version": 2
   },
   "file_extension": ".py",
   "mimetype": "text/x-python",
   "name": "python",
   "nbconvert_exporter": "python",
   "pygments_lexer": "ipython2",
   "version": "2.7.11"
  }
 },
 "nbformat": 4,
 "nbformat_minor": 0
}
