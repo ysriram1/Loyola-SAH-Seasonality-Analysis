{
 "cells": [
  {
   "cell_type": "code",
   "execution_count": 25,
   "metadata": {
    "collapsed": true
   },
   "outputs": [],
   "source": [
    "'''\n",
    "Author: Sriram Yarlagadda + George Nakhleh\n",
    "Date Created: 10/15/2016\n",
    "Last Updated: 10/22/2016\n",
    "Note: Please use Python 2.7\n",
    "'''\n",
    "import os\n",
    "import pandas as pd\n",
    "import numpy as np\n",
    "import matplotlib.pyplot as plt\n",
    "from scipy import stats\n",
    "import seaborn as sns\n",
    "#sns.set_palette(\"colorblind\")\n",
    "#os.chdir('C:\\Users\\syarlag1\\Desktop\\Loyola-SAH-Seasonality-Analysis')\n",
    "#os.chdir('C:\\\\Users\\\\gnakhleh\\\\Documents\\\\Loyola\\\\Loyola-SAH-Seasonality-Analysis')\n",
    "\n",
    "%matplotlib inline"
   ]
  },
  {
   "cell_type": "markdown",
   "metadata": {},
   "source": [
    "### Reading Data"
   ]
  },
  {
   "cell_type": "code",
   "execution_count": 2,
   "metadata": {
    "collapsed": false
   },
   "outputs": [],
   "source": [
    "os.chdir('./data')\n",
    "dataFiles = os.listdir('.')\n",
    "allDataDict = {}\n",
    "# list of variables we need\n",
    "varList = ['SCORE','SPRING','SUMMER','WINTER','FALL','FEMALE']\n",
    "for dataFile in dataFiles:\n",
    "    state = dataFile[-6:-4]\n",
    "    allDataDict[state] = pd.read_stata(dataFile, columns=varList)"
   ]
  },
  {
   "cell_type": "code",
   "execution_count": 3,
   "metadata": {
    "collapsed": false
   },
   "outputs": [],
   "source": [
    "for key in allDataDict.keys(): #creating a new state identifier column\n",
    "    allDataDict[key]['State'] = pd.Series([str(key)[:2]]*allDataDict[key].shape[0])\n",
    "allStateData = pd.concat(allDataDict.values()) #combing into a single dataframe"
   ]
  },
  {
   "cell_type": "code",
   "execution_count": 4,
   "metadata": {
    "collapsed": false
   },
   "outputs": [],
   "source": [
    "allStateData.index = range(allStateData.shape[0])"
   ]
  },
  {
   "cell_type": "markdown",
   "metadata": {},
   "source": [
    "### Data Preprocessing"
   ]
  },
  {
   "cell_type": "code",
   "execution_count": 5,
   "metadata": {
    "collapsed": false
   },
   "outputs": [
    {
     "data": {
      "text/plain": [
       "(29708, 7)"
      ]
     },
     "execution_count": 5,
     "metadata": {},
     "output_type": "execute_result"
    }
   ],
   "source": [
    "allStateData.shape"
   ]
  },
  {
   "cell_type": "code",
   "execution_count": 6,
   "metadata": {
    "collapsed": false
   },
   "outputs": [
    {
     "data": {
      "text/plain": [
       "Index([u'SCORE', u'SPRING', u'SUMMER', u'WINTER', u'FALL', u'FEMALE',\n",
       "       u'State'],\n",
       "      dtype='object')"
      ]
     },
     "execution_count": 6,
     "metadata": {},
     "output_type": "execute_result"
    }
   ],
   "source": [
    "allStateData.columns"
   ]
  },
  {
   "cell_type": "code",
   "execution_count": 9,
   "metadata": {
    "collapsed": false
   },
   "outputs": [
    {
     "data": {
      "text/plain": [
       "array([ 0,  0,  0,  0,  0, 88,  0])"
      ]
     },
     "execution_count": 9,
     "metadata": {},
     "output_type": "execute_result"
    }
   ],
   "source": [
    "#How many records have values less than 0?\n",
    "np.sum(np.array(allStateData < 0), 0) # 88 values < 0 (invalid)"
   ]
  },
  {
   "cell_type": "code",
   "execution_count": 10,
   "metadata": {
    "collapsed": false
   },
   "outputs": [
    {
     "data": {
      "text/plain": [
       "array([  0,   0,   0,   0,   0, 226,   0])"
      ]
     },
     "execution_count": 10,
     "metadata": {},
     "output_type": "execute_result"
    }
   ],
   "source": [
    "#How many null values?\n",
    "np.sum(np.array(pd.isnull(allStateData)),0) # 226 NaNs"
   ]
  },
  {
   "cell_type": "code",
   "execution_count": 11,
   "metadata": {
    "collapsed": true
   },
   "outputs": [],
   "source": [
    "#Drop records with no season (where the sum of the season columns = 0)\n",
    "for feature in allStateData.columns: \n",
    "    allStateData = allStateData[allStateData[feature] >= 0]"
   ]
  },
  {
   "cell_type": "code",
   "execution_count": 12,
   "metadata": {
    "collapsed": false
   },
   "outputs": [],
   "source": [
    "# continue with removing instances where all seasons are equal to 0\n",
    "allStateData = allStateData.drop(allStateData[allStateData['FALL']+\\\n",
    "                                                  allStateData['WINTER']+\\\n",
    "                                                  allStateData['SUMMER']+\\\n",
    "                                                  allStateData['SPRING']== 0].index)"
   ]
  },
  {
   "cell_type": "code",
   "execution_count": 13,
   "metadata": {
    "collapsed": false
   },
   "outputs": [
    {
     "data": {
      "text/plain": [
       "(29304, 7)"
      ]
     },
     "execution_count": 13,
     "metadata": {},
     "output_type": "execute_result"
    }
   ],
   "source": [
    "allStateData.shape"
   ]
  },
  {
   "cell_type": "code",
   "execution_count": 14,
   "metadata": {
    "collapsed": false
   },
   "outputs": [],
   "source": [
    "# creating a new \"season\" variable\n",
    "allStateData.index = range(allStateData.shape[0]) # reindexing again to account for the removed rows\n",
    "season = []\n",
    "for iRow in range(allStateData.shape[0]):\n",
    "    if allStateData['FALL'][iRow] == 1: season.append('FALL')\n",
    "    if allStateData['SPRING'][iRow] == 1: season.append('SPRING')\n",
    "    if allStateData['SUMMER'][iRow] == 1: season.append('SUMMER')\n",
    "    if allStateData['WINTER'][iRow] == 1: season.append('WINTER')\n",
    "\n",
    "allStateData['SEASON'] = pd.Series(season)"
   ]
  },
  {
   "cell_type": "code",
   "execution_count": 15,
   "metadata": {
    "collapsed": false
   },
   "outputs": [],
   "source": [
    "# saving an excel copy of the entire data for later use\n",
    "os.chdir('./..')\n",
    "allStateData.to_csv('allData.csv') # note that all data only includes the column subsets we need"
   ]
  },
  {
   "cell_type": "markdown",
   "metadata": {},
   "source": [
    "### Seasonality"
   ]
  },
  {
   "cell_type": "markdown",
   "metadata": {},
   "source": [
    "#### *Question*: Is there seasonality in the SAH Scores?"
   ]
  },
  {
   "cell_type": "markdown",
   "metadata": {},
   "source": [
    "Let us first perform some quick data exploration"
   ]
  },
  {
   "cell_type": "code",
   "execution_count": 16,
   "metadata": {
    "collapsed": false
   },
   "outputs": [
    {
     "data": {
      "text/plain": [
       "SPRING    7497\n",
       "FALL      7450\n",
       "WINTER    7390\n",
       "SUMMER    6967\n",
       "Name: SEASON, dtype: int64"
      ]
     },
     "execution_count": 16,
     "metadata": {},
     "output_type": "execute_result"
    }
   ],
   "source": [
    "#count for each season\n",
    "allStateData.SEASON.value_counts()"
   ]
  },
  {
   "cell_type": "code",
   "execution_count": 24,
   "metadata": {
    "collapsed": false
   },
   "outputs": [
    {
     "data": {
      "text/plain": [
       "<matplotlib.axes._subplots.AxesSubplot at 0xda8a6d8>"
      ]
     },
     "execution_count": 24,
     "metadata": {},
     "output_type": "execute_result"
    },
    {
     "data": {
      "image/png": "[encoded data removed]",
      "text/plain": [
       "<matplotlib.figure.Figure at 0xdc17438>"
      ]
     },
     "metadata": {},
     "output_type": "display_data"
    }
   ],
   "source": [
    "allStateData.plot(kind=\"box\")"
   ]
  },
  {
   "cell_type": "code",
   "execution_count": 26,
   "metadata": {
    "collapsed": false
   },
   "outputs": [
    {
     "data": {
      "text/plain": [
       "<matplotlib.axes._subplots.AxesSubplot at 0xd497eb8>"
      ]
     },
     "execution_count": 26,
     "metadata": {},
     "output_type": "execute_result"
    },
    {
     "data": {
      "image/png": "[encoded data removed]",
      "text/plain": [
       "<matplotlib.figure.Figure at 0xce14e80>"
      ]
     },
     "metadata": {},
     "output_type": "display_data"
    }
   ],
   "source": [
    "# boxplots of scores for each season\n",
    "allStateData.boxplot(column='SCORE', by='SEASON')"
   ]
  },
  {
   "cell_type": "code",
   "execution_count": 27,
   "metadata": {
    "collapsed": false
   },
   "outputs": [
    {
     "data": {
      "text/plain": [
       "(0, 20)"
      ]
     },
     "execution_count": 27,
     "metadata": {},
     "output_type": "execute_result"
    },
    {
     "data": {
      "image/png": "[encoded data removed]",
      "text/plain": [
       "<matplotlib.figure.Figure at 0xe30aba8>"
      ]
     },
     "metadata": {},
     "output_type": "display_data"
    }
   ],
   "source": [
    "# that's smushed, let's zoom in to where most of the scores are\n",
    "allStateData.boxplot(column='SCORE', by='SEASON')\n",
    "plt.ylim(0,20)"
   ]
  },
  {
   "cell_type": "markdown",
   "metadata": {},
   "source": [
    "Scores appear the same by season, though outliers cloud it a bit"
   ]
  },
  {
   "cell_type": "markdown",
   "metadata": {},
   "source": [
    "**Analyzing scores**"
   ]
  },
  {
   "cell_type": "code",
   "execution_count": 32,
   "metadata": {
    "collapsed": false
   },
   "outputs": [
    {
     "data": {
      "text/plain": [
       "<matplotlib.axes._subplots.AxesSubplot at 0xbc4e128>"
      ]
     },
     "execution_count": 32,
     "metadata": {},
     "output_type": "execute_result"
    },
    {
     "data": {
      "image/png": "[encoded data removed]",
      "text/plain": [
       "<matplotlib.figure.Figure at 0xbc62128>"
      ]
     },
     "metadata": {},
     "output_type": "display_data"
    }
   ],
   "source": [
    "#Distribution of scores, overall\n",
    "allStateData.SCORE.hist(bins=50)"
   ]
  },
  {
   "cell_type": "markdown",
   "metadata": {},
   "source": [
    "Let's look at measures of spread of the scores for each season\n",
    "Standard deviation and range of scores for each season"
   ]
  },
  {
   "cell_type": "code",
   "execution_count": 61,
   "metadata": {
    "collapsed": false
   },
   "outputs": [],
   "source": [
    "Fall = allStateData[allStateData['SEASON'] == \"FALL\"]\n",
    "Spring = allStateData[allStateData['SEASON'] == \"SPRING\"]\n",
    "Summer = allStateData[allStateData['SEASON'] == \"SUMMER\"]\n",
    "Winter = allStateData[allStateData['SEASON'] == \"WINTER\"]"
   ]
  },
  {
   "cell_type": "code",
   "execution_count": 99,
   "metadata": {
    "collapsed": false
   },
   "outputs": [
    {
     "name": "stdout",
     "output_type": "stream",
     "text": [
      "MEASURES OF SPREAD\n",
      "\n",
      "Fall: std of SCORE: 10.7911522545,  range: (0.29819726944, 63.4340057373)\n",
      "Winter: std of SCORE: 10.0884504549,  range: (0.29819726944, 106.05947876)\n",
      "Spring: std of SCORE: 10.2733227625,  range: (0.29819726944, 106.05947876)\n",
      "Summer: std of SCORE: 10.5475299999,  range: (0.29819726944, 106.05947876)\n",
      "Overall: std of SCORE: 10.4269728882,  range: (0.29819726944, 106.05947876)\n"
     ]
    }
   ],
   "source": [
    "print \"MEASURES OF SPREAD\\n\"\n",
    "print \"Fall: std of SCORE: {},  range: ({}, {})\".format(Fall.SCORE.std(), Fall.SCORE.min(), Fall.SCORE.max())\n",
    "print \"Winter: std of SCORE: {},  range: ({}, {})\".format(Winter.SCORE.std(), Winter.SCORE.min(), Winter.SCORE.max())\n",
    "print \"Spring: std of SCORE: {},  range: ({}, {})\".format(Spring.SCORE.std(), Spring.SCORE.min(), Spring.SCORE.max())\n",
    "print \"Summer: std of SCORE: {},  range: ({}, {})\".format(Summer.SCORE.std(), Summer.SCORE.min(), Summer.SCORE.max())\n",
    "print \"Overall: std of SCORE: {},  range: ({}, {})\".format(allStateData.SCORE.std(), allStateData.SCORE.min(), allStateData.SCORE.max())\n"
   ]
  },
  {
   "cell_type": "code",
   "execution_count": 100,
   "metadata": {
    "collapsed": false
   },
   "outputs": [
    {
     "name": "stdout",
     "output_type": "stream",
     "text": [
      "Fall: mean of SCORE: 6.06922483444,  median: 0.932393848896\n",
      "Winter: mean of SCORE: 5.63364219666,  median: 0.932393848896\n",
      "Spring: mean of SCORE: 5.6830291748,  median: 0.932393848896\n",
      "Summer: mean of SCORE: 5.85928249359,  median: 0.932393848896\n",
      "Overall: mean of SCORE: 5.81024265289,  median: 0.932393848896\n"
     ]
    }
   ],
   "source": [
    "print \"Fall: mean of SCORE: {},  median: {}\".format(Fall.SCORE.mean(), Fall.SCORE.median())\n",
    "print \"Winter: mean of SCORE: {},  median: {}\".format(Winter.SCORE.mean(), Winter.SCORE.median())\n",
    "print \"Spring: mean of SCORE: {},  median: {}\".format(Spring.SCORE.mean(), Spring.SCORE.median())\n",
    "print \"Summer: mean of SCORE: {},  median: {}\".format(Summer.SCORE.mean(), Summer.SCORE.median())\n",
    "print \"Overall: mean of SCORE: {},  median: {}\".format(allStateData.SCORE.mean(), allStateData.SCORE.median())\n"
   ]
  },
  {
   "cell_type": "markdown",
   "metadata": {},
   "source": [
    "So we see here that the spread is really not that different: across seasons. The maximum values for the seasons isn't really indicative of much, and the boxplots give you a clearer picture of what's going on"
   ]
  },
  {
   "cell_type": "code",
   "execution_count": 63,
   "metadata": {
    "collapsed": false
   },
   "outputs": [
    {
     "data": {
      "text/plain": [
       "0.298197        467\n",
       "0.463013          9\n",
       "0.774142          3\n",
       "0.932394      17022\n",
       "1.447735        256\n",
       "1.750672          3\n",
       "2.225541        169\n",
       "2.420563         41\n",
       "3.455614          1\n",
       "5.473947        385\n",
       "6.958751       8607\n",
       "8.499436          7\n",
       "10.804901       100\n",
       "13.065824        46\n",
       "14.210769         1\n",
       "18.065428        20\n",
       "40.853809      2139\n",
       "63.434006        25\n",
       "106.059479        3\n",
       "Name: SCORE, dtype: int64"
      ]
     },
     "execution_count": 63,
     "metadata": {},
     "output_type": "execute_result"
    }
   ],
   "source": [
    "#Same data on scores, but as a table of counts\n",
    "allStateData.SCORE.value_counts().sort_index()"
   ]
  },
  {
   "cell_type": "code",
   "execution_count": 64,
   "metadata": {
    "collapsed": false
   },
   "outputs": [
    {
     "data": {
      "text/plain": [
       "0.298197      0.015936\n",
       "0.463013      0.000307\n",
       "0.774142      0.000102\n",
       "0.932394      0.580876\n",
       "1.447735      0.008736\n",
       "1.750672      0.000102\n",
       "2.225541      0.005767\n",
       "2.420563      0.001399\n",
       "3.455614      0.000034\n",
       "5.473947      0.013138\n",
       "6.958751      0.293714\n",
       "8.499436      0.000239\n",
       "10.804901     0.003413\n",
       "13.065824     0.001570\n",
       "14.210769     0.000034\n",
       "18.065428     0.000683\n",
       "40.853809     0.072993\n",
       "63.434006     0.000853\n",
       "106.059479    0.000102\n",
       "Name: SCORE, dtype: float64"
      ]
     },
     "execution_count": 64,
     "metadata": {},
     "output_type": "execute_result"
    }
   ],
   "source": [
    "#Expressed as percent of the overall data\n",
    "allStateData.SCORE.value_counts().sort_index()/allStateData.shape[0]"
   ]
  },
  {
   "cell_type": "code",
   "execution_count": 65,
   "metadata": {
    "collapsed": false
   },
   "outputs": [
    {
     "data": {
      "text/plain": [
       "0.298197      0.015936\n",
       "0.463013      0.016244\n",
       "0.774142      0.016346\n",
       "0.932394      0.597222\n",
       "1.447735      0.605958\n",
       "1.750672      0.606061\n",
       "2.225541      0.611828\n",
       "2.420563      0.613227\n",
       "3.455614      0.613261\n",
       "5.473947      0.626399\n",
       "6.958751      0.920113\n",
       "8.499436      0.920352\n",
       "10.804901     0.923765\n",
       "13.065824     0.925334\n",
       "14.210769     0.925369\n",
       "18.065428     0.926051\n",
       "40.853809     0.999044\n",
       "63.434006     0.999898\n",
       "106.059479    1.000000\n",
       "Name: SCORE, dtype: float64"
      ]
     },
     "execution_count": 65,
     "metadata": {},
     "output_type": "execute_result"
    }
   ],
   "source": [
    "#Expressed as percent of the cumulative sum\n",
    "#In other words, 59% of the records have a score of 0.93 or less\n",
    "\n",
    "allStateData.SCORE.value_counts().sort_index().cumsum()/allStateData.shape[0]"
   ]
  },
  {
   "cell_type": "markdown",
   "metadata": {},
   "source": [
    "### 1-way ANOVA test\n",
    "Determining whether there's a meaningful difference in scores by season"
   ]
  },
  {
   "cell_type": "code",
   "execution_count": 66,
   "metadata": {
    "collapsed": false
   },
   "outputs": [
    {
     "data": {
      "text/plain": [
       "F_onewayResult(statistic=2.6621598986193655, pvalue=0.046311753389164698)"
      ]
     },
     "execution_count": 66,
     "metadata": {},
     "output_type": "execute_result"
    }
   ],
   "source": [
    "# creating seperate tables for each season for later use for anova\n",
    "FALLData = allStateData[allStateData['SEASON'] == 'FALL']['SCORE']\n",
    "SUMMERData = allStateData[allStateData['SEASON'] == 'SUMMER']['SCORE']\n",
    "SPRINGData = allStateData[allStateData['SEASON'] == 'SPRING']['SCORE']\n",
    "WINTERData = allStateData[allStateData['SEASON'] == 'WINTER']['SCORE']\n",
    "\n",
    "stats.f_oneway(FALLData, SUMMERData, SPRINGData, WINTERData)"
   ]
  },
  {
   "cell_type": "markdown",
   "metadata": {},
   "source": [
    "**Analysis of outlier records and w/ outliers removed**  \n",
    "Outlier defined as a score of greater than 40 (~8% of the data)"
   ]
  },
  {
   "cell_type": "code",
   "execution_count": 67,
   "metadata": {
    "collapsed": false
   },
   "outputs": [],
   "source": [
    "allStateData_no_outliers = allStateData[allStateData['SCORE'] < 40]"
   ]
  },
  {
   "cell_type": "code",
   "execution_count": 68,
   "metadata": {
    "collapsed": false
   },
   "outputs": [
    {
     "data": {
      "text/html": [
       "<div>\n",
       "<table border=\"1\" class=\"dataframe\">\n",
       "  <thead>\n",
       "    <tr style=\"text-align: right;\">\n",
       "      <th>SEASON</th>\n",
       "      <th>FALL</th>\n",
       "      <th>SPRING</th>\n",
       "      <th>SUMMER</th>\n",
       "      <th>WINTER</th>\n",
       "    </tr>\n",
       "    <tr>\n",
       "      <th>SCORE</th>\n",
       "      <th></th>\n",
       "      <th></th>\n",
       "      <th></th>\n",
       "      <th></th>\n",
       "    </tr>\n",
       "  </thead>\n",
       "  <tbody>\n",
       "    <tr>\n",
       "      <th>0.298197</th>\n",
       "      <td>105</td>\n",
       "      <td>130</td>\n",
       "      <td>103</td>\n",
       "      <td>129</td>\n",
       "    </tr>\n",
       "    <tr>\n",
       "      <th>0.463013</th>\n",
       "      <td>1</td>\n",
       "      <td>2</td>\n",
       "      <td>4</td>\n",
       "      <td>2</td>\n",
       "    </tr>\n",
       "    <tr>\n",
       "      <th>0.774142</th>\n",
       "      <td>0</td>\n",
       "      <td>3</td>\n",
       "      <td>0</td>\n",
       "      <td>0</td>\n",
       "    </tr>\n",
       "    <tr>\n",
       "      <th>0.932394</th>\n",
       "      <td>4311</td>\n",
       "      <td>4364</td>\n",
       "      <td>4059</td>\n",
       "      <td>4288</td>\n",
       "    </tr>\n",
       "    <tr>\n",
       "      <th>1.447735</th>\n",
       "      <td>64</td>\n",
       "      <td>72</td>\n",
       "      <td>56</td>\n",
       "      <td>64</td>\n",
       "    </tr>\n",
       "    <tr>\n",
       "      <th>1.750672</th>\n",
       "      <td>1</td>\n",
       "      <td>1</td>\n",
       "      <td>1</td>\n",
       "      <td>0</td>\n",
       "    </tr>\n",
       "    <tr>\n",
       "      <th>2.225541</th>\n",
       "      <td>45</td>\n",
       "      <td>45</td>\n",
       "      <td>37</td>\n",
       "      <td>42</td>\n",
       "    </tr>\n",
       "    <tr>\n",
       "      <th>2.420563</th>\n",
       "      <td>14</td>\n",
       "      <td>11</td>\n",
       "      <td>9</td>\n",
       "      <td>7</td>\n",
       "    </tr>\n",
       "    <tr>\n",
       "      <th>3.455614</th>\n",
       "      <td>0</td>\n",
       "      <td>1</td>\n",
       "      <td>0</td>\n",
       "      <td>0</td>\n",
       "    </tr>\n",
       "    <tr>\n",
       "      <th>5.473947</th>\n",
       "      <td>104</td>\n",
       "      <td>94</td>\n",
       "      <td>99</td>\n",
       "      <td>88</td>\n",
       "    </tr>\n",
       "    <tr>\n",
       "      <th>6.958751</th>\n",
       "      <td>2145</td>\n",
       "      <td>2204</td>\n",
       "      <td>2042</td>\n",
       "      <td>2216</td>\n",
       "    </tr>\n",
       "    <tr>\n",
       "      <th>8.499436</th>\n",
       "      <td>3</td>\n",
       "      <td>1</td>\n",
       "      <td>2</td>\n",
       "      <td>1</td>\n",
       "    </tr>\n",
       "    <tr>\n",
       "      <th>10.804901</th>\n",
       "      <td>33</td>\n",
       "      <td>25</td>\n",
       "      <td>17</td>\n",
       "      <td>25</td>\n",
       "    </tr>\n",
       "    <tr>\n",
       "      <th>13.065824</th>\n",
       "      <td>18</td>\n",
       "      <td>9</td>\n",
       "      <td>8</td>\n",
       "      <td>11</td>\n",
       "    </tr>\n",
       "    <tr>\n",
       "      <th>14.210769</th>\n",
       "      <td>0</td>\n",
       "      <td>0</td>\n",
       "      <td>0</td>\n",
       "      <td>1</td>\n",
       "    </tr>\n",
       "    <tr>\n",
       "      <th>18.065428</th>\n",
       "      <td>5</td>\n",
       "      <td>3</td>\n",
       "      <td>6</td>\n",
       "      <td>6</td>\n",
       "    </tr>\n",
       "  </tbody>\n",
       "</table>\n",
       "</div>"
      ],
      "text/plain": [
       "SEASON     FALL  SPRING  SUMMER  WINTER\n",
       "SCORE                                  \n",
       "0.298197    105     130     103     129\n",
       "0.463013      1       2       4       2\n",
       "0.774142      0       3       0       0\n",
       "0.932394   4311    4364    4059    4288\n",
       "1.447735     64      72      56      64\n",
       "1.750672      1       1       1       0\n",
       "2.225541     45      45      37      42\n",
       "2.420563     14      11       9       7\n",
       "3.455614      0       1       0       0\n",
       "5.473947    104      94      99      88\n",
       "6.958751   2145    2204    2042    2216\n",
       "8.499436      3       1       2       1\n",
       "10.804901    33      25      17      25\n",
       "13.065824    18       9       8      11\n",
       "14.210769     0       0       0       1\n",
       "18.065428     5       3       6       6"
      ]
     },
     "execution_count": 68,
     "metadata": {},
     "output_type": "execute_result"
    }
   ],
   "source": [
    "pd.crosstab(allStateData_no_outliers['SCORE'], allStateData_no_outliers['SEASON'])"
   ]
  },
  {
   "cell_type": "code",
   "execution_count": 69,
   "metadata": {
    "collapsed": false
   },
   "outputs": [
    {
     "data": {
      "text/html": [
       "<div>\n",
       "<table border=\"1\" class=\"dataframe\">\n",
       "  <thead>\n",
       "    <tr style=\"text-align: right;\">\n",
       "      <th></th>\n",
       "      <th>SCORE</th>\n",
       "    </tr>\n",
       "    <tr>\n",
       "      <th>SEASON</th>\n",
       "      <th></th>\n",
       "    </tr>\n",
       "  </thead>\n",
       "  <tbody>\n",
       "    <tr>\n",
       "      <th>FALL</th>\n",
       "      <td>2.990677</td>\n",
       "    </tr>\n",
       "    <tr>\n",
       "      <th>SPRING</th>\n",
       "      <td>2.964716</td>\n",
       "    </tr>\n",
       "    <tr>\n",
       "      <th>SUMMER</th>\n",
       "      <td>2.975229</td>\n",
       "    </tr>\n",
       "    <tr>\n",
       "      <th>WINTER</th>\n",
       "      <td>3.006950</td>\n",
       "    </tr>\n",
       "  </tbody>\n",
       "</table>\n",
       "</div>"
      ],
      "text/plain": [
       "           SCORE\n",
       "SEASON          \n",
       "FALL    2.990677\n",
       "SPRING  2.964716\n",
       "SUMMER  2.975229\n",
       "WINTER  3.006950"
      ]
     },
     "execution_count": 69,
     "metadata": {},
     "output_type": "execute_result"
    }
   ],
   "source": [
    "#Mean scores for each season, with outliers removed\n",
    "allStateData_no_outliers[['SCORE', 'SEASON']].groupby('SEASON').aggregate(np.mean)"
   ]
  },
  {
   "cell_type": "code",
   "execution_count": 70,
   "metadata": {
    "collapsed": false
   },
   "outputs": [],
   "source": [
    "###Lets look at the spread of the SCORE value by season\n",
    "Fall_nooutliers = allStateData_no_outliers[allStateData_no_outliers['SEASON'] == \"FALL\"]\n",
    "Spring_nooutliers = allStateData_no_outliers[allStateData_no_outliers['SEASON'] == \"SPRING\"]\n",
    "Summer_nooutliers = allStateData_no_outliers[allStateData_no_outliers['SEASON'] == \"SUMMER\"]\n",
    "Winter_nooutliers = allStateData_no_outliers[allStateData_no_outliers['SEASON'] == \"WINTER\"]"
   ]
  },
  {
   "cell_type": "code",
   "execution_count": 101,
   "metadata": {
    "collapsed": false
   },
   "outputs": [
    {
     "name": "stdout",
     "output_type": "stream",
     "text": [
      "MEASURES OF SPREAD, controlled for outliers\n",
      "\n",
      "Fall: std of SCORE: 2.92786564447,  range: (0.29819726944, 18.0654277802)\n",
      "Winter: std of SCORE: 2.92592923003,  range: (0.29819726944, 18.0654277802)\n",
      "Spring: std of SCORE: 2.8881756277,  range: (0.29819726944, 18.0654277802)\n",
      "Summer: std of SCORE: 2.89957720207,  range: (0.29819726944, 18.0654277802)\n",
      "Overall: std of SCORE: 2.91073967123,  range: (0.29819726944, 18.0654277802)\n"
     ]
    }
   ],
   "source": [
    "print \"MEASURES OF SPREAD, controlled for outliers\\n\"\n",
    "print \"Fall: std of SCORE: {},  range: ({}, {})\".format(Fall_nooutliers.SCORE.std(), \n",
    "                                                        Fall_nooutliers.SCORE.min(), Fall_nooutliers.SCORE.max())\n",
    "print \"Winter: std of SCORE: {},  range: ({}, {})\".format(Winter_nooutliers.SCORE.std(),\n",
    "                                                          Winter_nooutliers.SCORE.min(), Winter_nooutliers.SCORE.max())\n",
    "print \"Spring: std of SCORE: {},  range: ({}, {})\".format(Spring_nooutliers.SCORE.std(), \n",
    "                                                          Spring_nooutliers.SCORE.min(), Spring_nooutliers.SCORE.max())\n",
    "print \"Summer: std of SCORE: {},  range: ({}, {})\".format(Summer_nooutliers.SCORE.std(), \n",
    "                                                          Summer_nooutliers.SCORE.min(), Summer_nooutliers.SCORE.max())\n",
    "print \"Overall: std of SCORE: {},  range: ({}, {})\".format(allStateData_no_outliers.SCORE.std(), \n",
    "                                                           allStateData_no_outliers.SCORE.min(), allStateData_no_outliers.SCORE.max())\n"
   ]
  },
  {
   "cell_type": "code",
   "execution_count": 102,
   "metadata": {
    "collapsed": false
   },
   "outputs": [
    {
     "name": "stdout",
     "output_type": "stream",
     "text": [
      "Fall: mean of SCORE: 2.99076414108,  median: 0.932393848896\n",
      "Winter: mean of SCORE: 3.00704455376,  median: 0.932393848896\n",
      "Spring: mean of SCORE: 2.96480703354,  median: 0.932393848896\n",
      "Summer: mean of SCORE: 2.97532105446,  median: 0.932393848896\n",
      "Overall: mean of SCORE: 2.98455929756,  median: 0.932393848896\n"
     ]
    }
   ],
   "source": [
    "print \"Fall: mean of SCORE: {},  median: {}\".format(Fall_nooutliers.SCORE.mean(), Fall_nooutliers.SCORE.median())\n",
    "print \"Winter: mean of SCORE: {},  median: {}\".format(Winter_nooutliers.SCORE.mean(), Winter_nooutliers.SCORE.median())\n",
    "print \"Spring: mean of SCORE: {},  median: {}\".format(Spring_nooutliers.SCORE.mean(), Spring_nooutliers.SCORE.median())\n",
    "print \"Summer: mean of SCORE: {},  median: {}\".format(Summer_nooutliers.SCORE.mean(), Summer_nooutliers.SCORE.median())\n",
    "print \"Overall: mean of SCORE: {},  median: {}\".format(allStateData_no_outliers.SCORE.mean(), allStateData_no_outliers.SCORE.median())\n"
   ]
  },
  {
   "cell_type": "markdown",
   "metadata": {},
   "source": [
    "SO even with outliers removed, we are seeing that seasons have similar ranges of SAH scores"
   ]
  },
  {
   "cell_type": "code",
   "execution_count": 74,
   "metadata": {
    "collapsed": false
   },
   "outputs": [
    {
     "data": {
      "text/plain": [
       "<matplotlib.axes._subplots.AxesSubplot at 0xc5dcc50>"
      ]
     },
     "execution_count": 74,
     "metadata": {},
     "output_type": "execute_result"
    },
    {
     "data": {
      "image/png": "[encoded data removed]",
      "text/plain": [
       "<matplotlib.figure.Figure at 0xc5dc940>"
      ]
     },
     "metadata": {},
     "output_type": "display_data"
    }
   ],
   "source": [
    "#Boxplot with outliers removed\n",
    "allStateData_no_outliers.boxplot(column='SCORE', by='SEASON')"
   ]
  },
  {
   "cell_type": "markdown",
   "metadata": {},
   "source": [
    "Even with outliers removed, the scores don't vary by season"
   ]
  },
  {
   "cell_type": "code",
   "execution_count": 75,
   "metadata": {
    "collapsed": false
   },
   "outputs": [
    {
     "data": {
      "text/html": [
       "<div>\n",
       "<table border=\"1\" class=\"dataframe\">\n",
       "  <thead>\n",
       "    <tr style=\"text-align: right;\">\n",
       "      <th></th>\n",
       "      <th>SCORE</th>\n",
       "    </tr>\n",
       "    <tr>\n",
       "      <th>SEASON</th>\n",
       "      <th></th>\n",
       "    </tr>\n",
       "  </thead>\n",
       "  <tbody>\n",
       "    <tr>\n",
       "      <th>FALL</th>\n",
       "      <td>41.154377</td>\n",
       "    </tr>\n",
       "    <tr>\n",
       "      <th>SPRING</th>\n",
       "      <td>41.273483</td>\n",
       "    </tr>\n",
       "    <tr>\n",
       "      <th>SUMMER</th>\n",
       "      <td>41.322983</td>\n",
       "    </tr>\n",
       "    <tr>\n",
       "      <th>WINTER</th>\n",
       "      <td>41.070213</td>\n",
       "    </tr>\n",
       "  </tbody>\n",
       "</table>\n",
       "</div>"
      ],
      "text/plain": [
       "            SCORE\n",
       "SEASON           \n",
       "FALL    41.154377\n",
       "SPRING  41.273483\n",
       "SUMMER  41.322983\n",
       "WINTER  41.070213"
      ]
     },
     "execution_count": 75,
     "metadata": {},
     "output_type": "execute_result"
    }
   ],
   "source": [
    "#Analyzing the outliers (defined as a score of more than 40 (about 8% of the records))\n",
    "allStateData_outliers = allStateData[allStateData['SCORE'] > 40]\n",
    "\n",
    "allStateData_outliers[['SCORE', 'SEASON']].groupby('SEASON').aggregate(np.mean)"
   ]
  },
  {
   "cell_type": "markdown",
   "metadata": {},
   "source": [
    "**State-by-state analysis**  \n",
    "Looking at same things, to see if any results differ by state"
   ]
  },
  {
   "cell_type": "code",
   "execution_count": 76,
   "metadata": {
    "collapsed": false
   },
   "outputs": [
    {
     "data": {
      "text/plain": [
       "Index([u'SCORE', u'SPRING', u'SUMMER', u'WINTER', u'FALL', u'FEMALE', u'State',\n",
       "       u'SEASON'],\n",
       "      dtype='object')"
      ]
     },
     "execution_count": 76,
     "metadata": {},
     "output_type": "execute_result"
    }
   ],
   "source": [
    "allStateData.columns"
   ]
  },
  {
   "cell_type": "code",
   "execution_count": 77,
   "metadata": {
    "collapsed": false
   },
   "outputs": [
    {
     "data": {
      "text/plain": [
       "CA    18132\n",
       "NY     8229\n",
       "WA     2006\n",
       "IA      937\n",
       "Name: State, dtype: int64"
      ]
     },
     "execution_count": 77,
     "metadata": {},
     "output_type": "execute_result"
    }
   ],
   "source": [
    "allStateData.State.value_counts()"
   ]
  },
  {
   "cell_type": "code",
   "execution_count": 78,
   "metadata": {
    "collapsed": true
   },
   "outputs": [],
   "source": [
    "#Create state specific dataframes in case we need them\n",
    "CA_data = allStateData[allStateData['State'] == 'CA']\n",
    "NY_data = allStateData[allStateData['State'] == 'NY']\n",
    "WA_data = allStateData[allStateData['State'] == 'WA']\n",
    "IA_data = allStateData[allStateData['State'] == 'IA']"
   ]
  },
  {
   "cell_type": "code",
   "execution_count": 79,
   "metadata": {
    "collapsed": false
   },
   "outputs": [
    {
     "name": "stdout",
     "output_type": "stream",
     "text": [
      "       SPRING  SUMMER  WINTER    FALL\n",
      "State                                \n",
      "CA     4679.0  4356.0  4547.0  4550.0\n",
      "IA      226.0   221.0   242.0   248.0\n",
      "NY     2097.0  1893.0  2097.0  2142.0\n",
      "WA      495.0   497.0   504.0   510.0\n"
     ]
    }
   ],
   "source": [
    "#Might not actually need those dataframes\n",
    "#Lets see what we can do just by grouping by state, or iterating over\n",
    "\n",
    "SAH_groupedbystate = allStateData[['State', 'SPRING', 'SUMMER', 'WINTER', 'FALL','SEASON', 'SCORE']].groupby('State')\n",
    "\n",
    "#How many records for each season are there, by state\n",
    "print(SAH_groupedbystate[['SPRING', 'SUMMER', 'WINTER', 'FALL']].aggregate('sum'))  #results are off: exactly the same..."
   ]
  },
  {
   "cell_type": "code",
   "execution_count": 81,
   "metadata": {
    "collapsed": false
   },
   "outputs": [
    {
     "name": "stdout",
     "output_type": "stream",
     "text": [
      "         SPRING    SUMMER    WINTER      FALL\n",
      "State                                        \n",
      "CA     0.258052  0.240238  0.250772  0.250938\n",
      "IA     0.241195  0.235859  0.258271  0.264674\n",
      "NY     0.254830  0.230040  0.254830  0.260299\n",
      "WA     0.246760  0.247757  0.251246  0.254237\n"
     ]
    }
   ],
   "source": [
    "#Similar breakdowns\n",
    "print(SAH_groupedbystate[['SPRING', 'SUMMER', 'WINTER', 'FALL']].aggregate('sum').apply(lambda x: x/x.sum(), axis=1))"
   ]
  },
  {
   "cell_type": "code",
   "execution_count": 82,
   "metadata": {
    "collapsed": false
   },
   "outputs": [
    {
     "name": "stdout",
     "output_type": "stream",
     "text": [
      "State\n",
      "CA    2.914092\n",
      "IA    2.895962\n",
      "NY    3.121237\n",
      "WA    3.088122\n",
      "Name: SCORE, dtype: float32\n"
     ]
    }
   ],
   "source": [
    "SAH_groupedbystate_nooutliers = allStateData_no_outliers[['State', 'SPRING', 'SUMMER', \n",
    "                                                      'WINTER', 'FALL','SEASON', 'SCORE']].groupby('State')\n",
    "\n",
    "print(SAH_groupedbystate_nooutliers['SCORE'].aggregate(np.mean))"
   ]
  },
  {
   "cell_type": "code",
   "execution_count": 98,
   "metadata": {
    "collapsed": false
   },
   "outputs": [
    {
     "name": "stdout",
     "output_type": "stream",
     "text": [
      "State\n",
      "CA    2.873746\n",
      "IA    2.824230\n",
      "NY    2.984764\n",
      "WA    2.942753\n",
      "Name: SCORE, dtype: float32\n"
     ]
    }
   ],
   "source": [
    "#Ranges of SCORE in each state, overall and not by season\n",
    "print SAH_groupedbystate_nooutliers['SCORE'].aggregate(np.std)"
   ]
  },
  {
   "cell_type": "markdown",
   "metadata": {},
   "source": [
    "Mean scores by state and season"
   ]
  },
  {
   "cell_type": "code",
   "execution_count": 83,
   "metadata": {
    "collapsed": false
   },
   "outputs": [
    {
     "name": "stdout",
     "output_type": "stream",
     "text": [
      "State  SEASON\n",
      "CA     FALL      6.217946\n",
      "       SPRING    5.983382\n",
      "       SUMMER    5.951336\n",
      "       WINTER    5.935328\n",
      "IA     FALL      5.011483\n",
      "       SPRING    6.586821\n",
      "       SUMMER    4.953653\n",
      "       WINTER    4.906367\n",
      "NY     FALL      5.948319\n",
      "       SPRING    5.119598\n",
      "       SUMMER    6.005303\n",
      "       WINTER    5.184735\n",
      "WA     FALL      5.766925\n",
      "       SPRING    4.820359\n",
      "       SUMMER    4.901056\n",
      "       WINTER    5.130880\n",
      "Name: SCORE, dtype: float32\n"
     ]
    }
   ],
   "source": [
    "SAH_season_groupedbystateandseason = allStateData[['State', 'SPRING', 'SUMMER', 'WINTER', \n",
    "                                                  'FALL','SEASON', 'SCORE']].groupby(['State', 'SEASON'])\n",
    "print(SAH_season_groupedbystateandseason['SCORE'].aggregate(np.mean))"
   ]
  },
  {
   "cell_type": "markdown",
   "metadata": {},
   "source": [
    "Lets do some measures of spread and center for each state by season (no outliers)"
   ]
  },
  {
   "cell_type": "code",
   "execution_count": 84,
   "metadata": {
    "collapsed": false
   },
   "outputs": [
    {
     "name": "stdout",
     "output_type": "stream",
     "text": [
      "State  SEASON\n",
      "CA     FALL      2.923720\n",
      "       SPRING    2.927763\n",
      "       SUMMER    2.891549\n",
      "       WINTER    2.912055\n",
      "IA     FALL      2.704037\n",
      "       SPRING    3.332458\n",
      "       SUMMER    2.709893\n",
      "       WINTER    2.865683\n",
      "NY     FALL      3.119127\n",
      "       SPRING    3.021017\n",
      "       SUMMER    3.149162\n",
      "       WINTER    3.198736\n",
      "WA     FALL      3.181576\n",
      "       SPRING    2.903686\n",
      "       SUMMER    3.156513\n",
      "       WINTER    3.108828\n",
      "Name: SCORE, dtype: float32\n"
     ]
    }
   ],
   "source": [
    "SAH_season_groupedbystateandseason_nooutliers = allStateData_no_outliers[['State', 'SPRING', 'SUMMER', 'WINTER', \n",
    "                                                  'FALL','SEASON', 'SCORE']].groupby(['State', 'SEASON'])\n",
    "print(SAH_season_groupedbystateandseason_nooutliers['SCORE'].aggregate(np.mean))"
   ]
  },
  {
   "cell_type": "code",
   "execution_count": 103,
   "metadata": {
    "collapsed": false
   },
   "outputs": [
    {
     "name": "stdout",
     "output_type": "stream",
     "text": [
      "State  SEASON\n",
      "CA     FALL      0.932394\n",
      "       SPRING    0.932394\n",
      "       SUMMER    0.932394\n",
      "       WINTER    0.932394\n",
      "IA     FALL      0.932394\n",
      "       SPRING    0.932394\n",
      "       SUMMER    0.932394\n",
      "       WINTER    0.932394\n",
      "NY     FALL      0.932394\n",
      "       SPRING    0.932394\n",
      "       SUMMER    0.932394\n",
      "       WINTER    0.932394\n",
      "WA     FALL      0.932394\n",
      "       SPRING    0.932394\n",
      "       SUMMER    0.932394\n",
      "       WINTER    0.932394\n",
      "Name: SCORE, dtype: float32\n"
     ]
    }
   ],
   "source": [
    "print(SAH_season_groupedbystateandseason_nooutliers['SCORE'].aggregate(np.median))"
   ]
  },
  {
   "cell_type": "code",
   "execution_count": 104,
   "metadata": {
    "collapsed": false
   },
   "outputs": [
    {
     "name": "stdout",
     "output_type": "stream",
     "text": [
      "State  SEASON\n",
      "CA     FALL      2.894411\n",
      "       SPRING    2.876615\n",
      "       SUMMER    2.854378\n",
      "       WINTER    2.869568\n",
      "IA     FALL      2.803182\n",
      "       SPRING    2.939797\n",
      "       SUMMER    2.736534\n",
      "       WINTER    2.792760\n",
      "NY     FALL      2.995414\n",
      "       SPRING    2.917060\n",
      "       SUMMER    2.985945\n",
      "       WINTER    3.038842\n",
      "WA     FALL      2.970219\n",
      "       SPRING    2.842329\n",
      "       SUMMER    2.992363\n",
      "       WINTER    2.963964\n",
      "Name: SCORE, dtype: float32\n"
     ]
    }
   ],
   "source": [
    "print(SAH_season_groupedbystateandseason_nooutliers['SCORE'].aggregate(np.std))"
   ]
  },
  {
   "cell_type": "code",
   "execution_count": 108,
   "metadata": {
    "collapsed": false
   },
   "outputs": [
    {
     "name": "stdout",
     "output_type": "stream",
     "text": [
      "State  SEASON\n",
      "CA     FALL      0.298197\n",
      "       SPRING    0.298197\n",
      "       SUMMER    0.298197\n",
      "       WINTER    0.298197\n",
      "IA     FALL      0.298197\n",
      "       SPRING    0.298197\n",
      "       SUMMER    0.298197\n",
      "       WINTER    0.298197\n",
      "NY     FALL      0.298197\n",
      "       SPRING    0.298197\n",
      "       SUMMER    0.298197\n",
      "       WINTER    0.298197\n",
      "WA     FALL      0.298197\n",
      "       SPRING    0.298197\n",
      "       SUMMER    0.298197\n",
      "       WINTER    0.298197\n",
      "Name: SCORE, dtype: float32\n"
     ]
    }
   ],
   "source": [
    "print(SAH_season_groupedbystateandseason_nooutliers['SCORE'].aggregate(np.min))"
   ]
  },
  {
   "cell_type": "code",
   "execution_count": 107,
   "metadata": {
    "collapsed": false
   },
   "outputs": [
    {
     "name": "stdout",
     "output_type": "stream",
     "text": [
      "State  SEASON\n",
      "CA     FALL      18.065428\n",
      "       SPRING    18.065428\n",
      "       SUMMER    18.065428\n",
      "       WINTER    18.065428\n",
      "IA     FALL      13.065824\n",
      "       SPRING     6.958751\n",
      "       SUMMER     6.958751\n",
      "       WINTER     6.958751\n",
      "NY     FALL      18.065428\n",
      "       SPRING    18.065428\n",
      "       SUMMER    18.065428\n",
      "       WINTER    18.065428\n",
      "WA     FALL      13.065824\n",
      "       SPRING    10.804901\n",
      "       SUMMER    18.065428\n",
      "       WINTER    13.065824\n",
      "Name: SCORE, dtype: float32\n"
     ]
    }
   ],
   "source": [
    "print(SAH_season_groupedbystateandseason_nooutliers['SCORE'].aggregate(np.max))"
   ]
  },
  {
   "cell_type": "markdown",
   "metadata": {},
   "source": [
    "Boxplot: Scores by state and season"
   ]
  },
  {
   "cell_type": "code",
   "execution_count": 85,
   "metadata": {
    "collapsed": false
   },
   "outputs": [
    {
     "data": {
      "text/plain": [
       "<matplotlib.axes._subplots.AxesSubplot at 0xc5867f0>"
      ]
     },
     "execution_count": 85,
     "metadata": {},
     "output_type": "execute_result"
    },
    {
     "data": {
      "image/png": "[encoded data removed]",
      "text/plain": [
       "<matplotlib.figure.Figure at 0xed7b198>"
      ]
     },
     "metadata": {},
     "output_type": "display_data"
    }
   ],
   "source": [
    "sns.boxplot(x=\"State\", y=\"SCORE\", hue=\"SEASON\", \n",
    "            data=allStateData, palette=[\"#7cc8a2\",\"#82898f\", \"#af401f\", \"#fbd504\"])"
   ]
  },
  {
   "cell_type": "markdown",
   "metadata": {},
   "source": [
    "Boxplot: Scores by state and season (no outliers)"
   ]
  },
  {
   "cell_type": "code",
   "execution_count": 86,
   "metadata": {
    "collapsed": false
   },
   "outputs": [
    {
     "data": {
      "text/plain": [
       "<matplotlib.axes._subplots.AxesSubplot at 0xf8cc630>"
      ]
     },
     "execution_count": 86,
     "metadata": {},
     "output_type": "execute_result"
    },
    {
     "data": {
      "image/png": "[encoded data removed]",
      "text/plain": [
       "<matplotlib.figure.Figure at 0xc591f98>"
      ]
     },
     "metadata": {},
     "output_type": "display_data"
    }
   ],
   "source": [
    "sns.boxplot(x=\"State\", y=\"SCORE\", hue=\"SEASON\", \n",
    "            data=allStateData_no_outliers, palette=[\"#7cc8a2\",\"#82898f\", \"#af401f\", \"#fbd504\"])"
   ]
  },
  {
   "cell_type": "markdown",
   "metadata": {},
   "source": [
    "Boxplot of distribution of outlier scores by state and season"
   ]
  },
  {
   "cell_type": "code",
   "execution_count": 87,
   "metadata": {
    "collapsed": false
   },
   "outputs": [
    {
     "data": {
      "text/plain": [
       "<matplotlib.axes._subplots.AxesSubplot at 0x108a42e8>"
      ]
     },
     "execution_count": 87,
     "metadata": {},
     "output_type": "execute_result"
    },
    {
     "data": {
      "image/png": "[encoded data removed]",
      "text/plain": [
       "<matplotlib.figure.Figure at 0xf832a90>"
      ]
     },
     "metadata": {},
     "output_type": "display_data"
    }
   ],
   "source": [
    "sns.boxplot(x=\"State\", y=\"SCORE\", hue=\"SEASON\", \n",
    "            data=allStateData_outliers, palette=[\"#fbd504\", \"#af401f\", \"#7cc8a2\",\"#82898f\"])"
   ]
  },
  {
   "cell_type": "markdown",
   "metadata": {},
   "source": [
    "Boxplot of scores greater or equal to 1 (~40% of the data) by state and season"
   ]
  },
  {
   "cell_type": "code",
   "execution_count": 88,
   "metadata": {
    "collapsed": false
   },
   "outputs": [
    {
     "data": {
      "text/plain": [
       "<matplotlib.axes._subplots.AxesSubplot at 0x10e2f978>"
      ]
     },
     "execution_count": 88,
     "metadata": {},
     "output_type": "execute_result"
    },
    {
     "data": {
      "image/png": "[encoded data removed]",
      "text/plain": [
       "<matplotlib.figure.Figure at 0x107bd630>"
      ]
     },
     "metadata": {},
     "output_type": "display_data"
    }
   ],
   "source": [
    "sns.boxplot(x=\"State\", y=\"SCORE\", hue=\"SEASON\", \n",
    "            data=allStateData[allStateData['SCORE'] >=1], palette=[\"#82898f\", \"#af401f\", \"#fbd504\", \"#7cc8a2\"])"
   ]
  },
  {
   "cell_type": "markdown",
   "metadata": {},
   "source": [
    "ANOVA tests state-by-state"
   ]
  },
  {
   "cell_type": "code",
   "execution_count": 89,
   "metadata": {
    "collapsed": false
   },
   "outputs": [],
   "source": [
    "# creating seperate tables for each season for later use for anova\n",
    "def anova_tester(df):\n",
    "    FALLData = df[df['SEASON'] == 'FALL']['SCORE']\n",
    "    SUMMERData = df[df['SEASON'] == 'SUMMER']['SCORE']\n",
    "    SPRINGData = df[df['SEASON'] == 'SPRING']['SCORE']\n",
    "    WINTERData = df[df['SEASON'] == 'WINTER']['SCORE']\n",
    "\n",
    "    return stats.f_oneway(FALLData, SUMMERData, SPRINGData, WINTERData)"
   ]
  },
  {
   "cell_type": "code",
   "execution_count": 90,
   "metadata": {
    "collapsed": false
   },
   "outputs": [
    {
     "name": "stdout",
     "output_type": "stream",
     "text": [
      "Iowa:  F_onewayResult(statistic=1.5852062459445773, pvalue=0.19136305406166029)\n"
     ]
    }
   ],
   "source": [
    "print \"Iowa: \", anova_tester(IA_data)"
   ]
  },
  {
   "cell_type": "code",
   "execution_count": 91,
   "metadata": {
    "collapsed": false
   },
   "outputs": [
    {
     "name": "stdout",
     "output_type": "stream",
     "text": [
      "California:  F_onewayResult(statistic=0.67173184940108599, pvalue=0.5692704760557068)\n"
     ]
    }
   ],
   "source": [
    "print \"California: \", anova_tester(CA_data)"
   ]
  },
  {
   "cell_type": "code",
   "execution_count": 92,
   "metadata": {
    "collapsed": false
   },
   "outputs": [
    {
     "name": "stdout",
     "output_type": "stream",
     "text": [
      "Washington state:  F_onewayResult(statistic=1.1312500697524432, pvalue=0.33507910398752638)\n"
     ]
    }
   ],
   "source": [
    "print \"Washington state: \", anova_tester(WA_data)"
   ]
  },
  {
   "cell_type": "markdown",
   "metadata": {},
   "source": [
    "Only NY state data has a seasonal difference in scores with any significance, but let's look at this data"
   ]
  },
  {
   "cell_type": "code",
   "execution_count": 93,
   "metadata": {
    "collapsed": false
   },
   "outputs": [
    {
     "name": "stdout",
     "output_type": "stream",
     "text": [
      "New York:  F_onewayResult(statistic=4.8558481684148882, pvalue=0.0022386946135250379)\n"
     ]
    }
   ],
   "source": [
    "#The difference in NY scores by season is significant\n",
    "print \"New York: \", anova_tester(NY_data)"
   ]
  },
  {
   "cell_type": "code",
   "execution_count": 94,
   "metadata": {
    "collapsed": false
   },
   "outputs": [
    {
     "data": {
      "text/plain": [
       "<matplotlib.axes._subplots.AxesSubplot at 0x114f7f60>"
      ]
     },
     "execution_count": 94,
     "metadata": {},
     "output_type": "execute_result"
    },
    {
     "data": {
      "image/png": "[encoded data removed]",
      "text/plain": [
       "<matplotlib.figure.Figure at 0x11372da0>"
      ]
     },
     "metadata": {},
     "output_type": "display_data"
    }
   ],
   "source": [
    "NY_data.boxplot(column=\"SCORE\", by=\"SEASON\")"
   ]
  },
  {
   "cell_type": "code",
   "execution_count": 95,
   "metadata": {
    "collapsed": false
   },
   "outputs": [
    {
     "data": {
      "text/plain": [
       "<matplotlib.axes._subplots.AxesSubplot at 0x11772be0>"
      ]
     },
     "execution_count": 95,
     "metadata": {},
     "output_type": "execute_result"
    },
    {
     "data": {
      "image/png": "[encoded data removed]",
      "text/plain": [
       "<matplotlib.figure.Figure at 0x11780320>"
      ]
     },
     "metadata": {},
     "output_type": "display_data"
    }
   ],
   "source": [
    "NY_data[NY_data['SCORE'] > 40].boxplot(column=\"SCORE\", by=\"SEASON\")"
   ]
  },
  {
   "cell_type": "code",
   "execution_count": 96,
   "metadata": {
    "collapsed": false
   },
   "outputs": [
    {
     "data": {
      "text/plain": [
       "<matplotlib.axes._subplots.AxesSubplot at 0x11594b38>"
      ]
     },
     "execution_count": 96,
     "metadata": {},
     "output_type": "execute_result"
    },
    {
     "data": {
      "image/png": "[encoded data removed]",
      "text/plain": [
       "<matplotlib.figure.Figure at 0x112c4ac8>"
      ]
     },
     "metadata": {},
     "output_type": "display_data"
    }
   ],
   "source": [
    "NY_data[NY_data['SCORE'] < 40].boxplot(column=\"SCORE\", by=\"SEASON\")"
   ]
  },
  {
   "cell_type": "code",
   "execution_count": null,
   "metadata": {
    "collapsed": true
   },
   "outputs": [],
   "source": []
  },
  {
   "cell_type": "code",
   "execution_count": null,
   "metadata": {
    "collapsed": true
   },
   "outputs": [],
   "source": []
  },
  {
   "cell_type": "code",
   "execution_count": null,
   "metadata": {
    "collapsed": true
   },
   "outputs": [],
   "source": []
  },
  {
   "cell_type": "code",
   "execution_count": null,
   "metadata": {
    "collapsed": true
   },
   "outputs": [],
   "source": []
  }
 ],
 "metadata": {
  "kernelspec": {
   "display_name": "Python 2",
   "language": "python",
   "name": "python2"
  },
  "language_info": {
   "codemirror_mode": {
    "name": "ipython",
    "version": 2
   },
   "file_extension": ".py",
   "mimetype": "text/x-python",
   "name": "python",
   "nbconvert_exporter": "python",
   "pygments_lexer": "ipython2",
   "version": "2.7.13"
  }
 },
 "nbformat": 4,
 "nbformat_minor": 0
}
